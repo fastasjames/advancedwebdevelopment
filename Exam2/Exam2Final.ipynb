{
 "cells": [
  {
   "cell_type": "markdown",
   "metadata": {
    "deletable": false,
    "editable": false
   },
   "source": [
    "# Exam II: Python and Web Scraping\n",
    "\n",
    "### Question 1 <span style = 'font-size:80%'>[4 points]</span>\n",
    "\n",
    "Add your name to the Markdown cell below, and change the font color of your name to red."
   ]
  },
  {
   "cell_type": "markdown",
   "metadata": {},
   "source": [
    "### Name: \n",
    "<p style = 'color:Red'>\n",
    "James Conlin\n",
    "</p>"
   ]
  },
  {
   "cell_type": "markdown",
   "metadata": {
    "deletable": false,
    "editable": false
   },
   "source": [
    "### Question 2 <span style = 'font-size:80%'>[6 points]</span>\n",
    "\n",
    "Write code that assigns the values of 3 and 5.6 to two variables, named *x* and *y*, and then finds the sum of the numbers, and outputs the result in the form: \n",
    "\n",
    "```\n",
    "The sum of 3 and 5.6 is 8.6.\n",
    "```"
   ]
  },
  {
   "cell_type": "code",
   "execution_count": 16,
   "metadata": {},
   "outputs": [
    {
     "name": "stdout",
     "output_type": "stream",
     "text": [
      "The sum of 3 and 5.6 is 8.6\n"
     ]
    }
   ],
   "source": [
    "x = 3\n",
    "y = 5.6\n",
    "print('The sum of',x, 'and',y,'is',(x+y));"
   ]
  },
  {
   "cell_type": "markdown",
   "metadata": {
    "deletable": false,
    "editable": false
   },
   "source": [
    "### Intro and setup for Questions 3  - 7\n",
    "\n",
    "The website https://www.infoplease.com/us/states/state-population-by-rank lists the 50 states ranked by population. The code below uses *BeautifulSoup* to scrape data from this website to create a list of the 50 states. "
   ]
  },
  {
   "cell_type": "code",
   "execution_count": 2,
   "metadata": {
    "deletable": false,
    "editable": false
   },
   "outputs": [],
   "source": [
    "from bs4 import BeautifulSoup\n",
    "import requests\n",
    "\n",
    "# create the soup\n",
    "r = requests.get('https://www.infoplease.com/us/states/state-population-by-rank')\n",
    "soup = BeautifulSoup(r.text)\n",
    "\n",
    "# get the state table and create a list of states\n",
    "table = soup.find(id = 'A0922497')\n",
    "state_trs = table.find_all('tr')\n",
    "\n",
    "states = []\n",
    "for tr in state_trs[1:] :\n",
    "    states.append(tr.find_all('td')[1].text)"
   ]
  },
  {
   "cell_type": "markdown",
   "metadata": {
    "deletable": false,
    "editable": false
   },
   "source": [
    "The next two questions are Python coding questions based on this list named *states*."
   ]
  },
  {
   "cell_type": "markdown",
   "metadata": {},
   "source": [
    "### Question 3 <span style = 'font-size:80%'>[10 points]</span>\n",
    "\n",
    "Use slicing to print or display the following:\n",
    "    \n",
    "(a) The first state in the list"
   ]
  },
  {
   "cell_type": "code",
   "execution_count": 3,
   "metadata": {},
   "outputs": [
    {
     "name": "stdout",
     "output_type": "stream",
     "text": [
      "California\n"
     ]
    }
   ],
   "source": [
    "print(states[0])"
   ]
  },
  {
   "cell_type": "markdown",
   "metadata": {
    "deletable": false,
    "editable": false
   },
   "source": [
    "(b) The first 4 states in the list"
   ]
  },
  {
   "cell_type": "code",
   "execution_count": 4,
   "metadata": {},
   "outputs": [
    {
     "name": "stdout",
     "output_type": "stream",
     "text": [
      "California\n",
      "Texas\n",
      "Florida\n",
      "New York\n"
     ]
    }
   ],
   "source": [
    "i = 0\n",
    "while(i<4) :\n",
    "    print(states[i])\n",
    "    i+=1"
   ]
  },
  {
   "cell_type": "markdown",
   "metadata": {},
   "source": [
    "(c) Use a *loop* to print out all states that have an 'm' or 'M' in its name. Note: one way to do this is to use *s.lower()* to make a lower-case copy of the string *s*. "
   ]
  },
  {
   "cell_type": "code",
   "execution_count": 5,
   "metadata": {},
   "outputs": [
    {
     "name": "stdout",
     "output_type": "stream",
     "text": [
      "Michigan\n",
      "Massachusetts\n",
      "Maryland\n",
      "Missouri\n",
      "Minnesota\n",
      "Alabama\n",
      "Oklahoma\n",
      "Mississippi\n",
      "New Mexico\n",
      "New Hampshire\n",
      "Maine\n",
      "Montana\n",
      "Vermont\n",
      "Wyoming\n"
     ]
    }
   ],
   "source": [
    "i = 0\n",
    "while(i<51) :\n",
    "    if \"m\" in states[i]:\n",
    "        print(states[i])\n",
    "    if \"M\" in states[i]:\n",
    "        print(states[i])\n",
    "    i+=1"
   ]
  },
  {
   "cell_type": "markdown",
   "metadata": {
    "deletable": false,
    "editable": false
   },
   "source": [
    "### Question 4 <span style = 'font-size:80%'>[6 points]</span>\n",
    "\n",
    "Use list comprehension to create a new list of states, named *long_states*, that contains only states whose names are more than 10 characters long."
   ]
  },
  {
   "cell_type": "code",
   "execution_count": 6,
   "metadata": {},
   "outputs": [
    {
     "name": "stdout",
     "output_type": "stream",
     "text": [
      "['Pennsylvania', 'North Carolina', 'Massachusetts', 'South Carolina', 'Connecticut', 'Mississippi', 'West Virginia', 'New Hampshire', 'Rhode Island', 'South Dakota', 'North Dakota']\n"
     ]
    }
   ],
   "source": [
    "newlist = [x for x in states if len(x) > 10 ] \n",
    "print(newlist)"
   ]
  },
  {
   "cell_type": "markdown",
   "metadata": {
    "deletable": false,
    "editable": false
   },
   "source": [
    "### Question 5 <span style = 'font-size:80%'>[6 points]</span>\n",
    "\n",
    "Use *BeautifulSoup* to display the text of the second *li* element with the class name of 'we-mega-menu-li'."
   ]
  },
  {
   "cell_type": "code",
   "execution_count": 7,
   "metadata": {},
   "outputs": [
    {
     "name": "stdout",
     "output_type": "stream",
     "text": [
      "Tools\n"
     ]
    }
   ],
   "source": [
    "li = soup.select('li.we-mega-menu-li.dropdown-menu.show-desktop.main-menu-tools')\n",
    "li1 = li[0].text.strip()\n",
    "b = li1.split(' ')\n",
    "print(b[0])"
   ]
  },
  {
   "cell_type": "markdown",
   "metadata": {
    "deletable": false,
    "editable": false
   },
   "source": [
    "Describe where this *li* element is found on the page."
   ]
  },
  {
   "cell_type": "markdown",
   "metadata": {},
   "source": [
    "(Type your answer here)"
   ]
  },
  {
   "cell_type": "markdown",
   "metadata": {
    "deletable": false,
    "editable": false
   },
   "source": [
    "### Question 6 <span style = 'font-size:80%'>[4 points]</span>\n",
    "\n",
    "Use *BeautifulSoup* to display the text of the first *li* that has a *description* attribute equal to 'Quizzes and Trivia'. In other words, the HTML element has the format:\n",
    "\n",
    "```\n",
    "<li ... description = 'Quizzes and Trivia' ... >\n",
    "```"
   ]
  },
  {
   "cell_type": "code",
   "execution_count": 8,
   "metadata": {},
   "outputs": [
    {
     "data": {
      "text/plain": [
       "'Quizzes'"
      ]
     },
     "execution_count": 8,
     "metadata": {},
     "output_type": "execute_result"
    }
   ],
   "source": [
    "li = soup.find_all(attrs={\"description\" : \"Quizzes and Trivia\"})\n",
    "li[0].text.strip()"
   ]
  },
  {
   "cell_type": "markdown",
   "metadata": {
    "deletable": false,
    "editable": false
   },
   "source": [
    "### Question 7 <span style = 'font-size:80%'>[4 points]</span>\n",
    "\n",
    "Use *BeautifulSoup* to find the first *div* on the page and print out its class name."
   ]
  },
  {
   "cell_type": "code",
   "execution_count": 9,
   "metadata": {},
   "outputs": [
    {
     "name": "stdout",
     "output_type": "stream",
     "text": [
      "['dialog-off-canvas-main-canvas']\n"
     ]
    }
   ],
   "source": [
    "print(soup.div['class'])"
   ]
  },
  {
   "cell_type": "markdown",
   "metadata": {
    "deletable": false,
    "editable": false,
    "jp-MarkdownHeadingCollapsed": true,
    "tags": []
   },
   "source": [
    "### Question 8 <span style = 'font-size:80%'>[8 points]</span>\n",
    "\n",
    "Eastern's Wikipedia page can be found at:\n",
    "https://en.wikipedia.org/wiki/Eastern_Connecticut_State_University\n",
    "\n",
    "Use the *requests* module and *BeautifulSoup* to answer the questions below:\n",
    "\n",
    "(a) Find the the main heading (“Eastern Connecticut State University”), which is retreived based on its *id*."
   ]
  },
  {
   "cell_type": "code",
   "execution_count": 10,
   "metadata": {},
   "outputs": [
    {
     "name": "stdout",
     "output_type": "stream",
     "text": [
      "Eastern Connecticut State University \n"
     ]
    }
   ],
   "source": [
    "headers = {\"User-Agent\": \"TestBot\"}\n",
    "page = requests.get('https://en.wikipedia.org/wiki/Eastern_Connecticut_State_University', headers = headers)\n",
    "page\n",
    "soup = BeautifulSoup(page.content, 'html.parser')\n",
    "s1 = soup.title.string.split(\"-\")\n",
    "print(s1[0])"
   ]
  },
  {
   "cell_type": "markdown",
   "metadata": {
    "deletable": false,
    "editable": false
   },
   "source": [
    "(b) From the table on the right hand side of the page, extract and print the following:\n",
    "\n",
    "- the date established\n",
    "- the total number of students\n",
    "\n",
    "Note: you can assume that the text for the date established is \"Established\" and that the text for the total number of students is \"Students\"; however, you should not assume that these rows will always appear in the same positions in the table (e.g., your code should work if the row for \"Established\" was the first row)."
   ]
  },
  {
   "cell_type": "code",
   "execution_count": 11,
   "metadata": {},
   "outputs": [
    {
     "name": "stdout",
     "output_type": "stream",
     "text": [
      "1889 Year Established\n",
      "4,989  Number of Students\n"
     ]
    }
   ],
   "source": [
    "table = soup.find('table', attrs={'class':'infobox vcard'})\n",
    "table_body = table.find('tbody')\n",
    "td = []\n",
    "th = []\n",
    "tabletr = table_body.find_all('tr')\n",
    "for row in tabletr:\n",
    "    cols = row.find_all('th')\n",
    "    if not cols:\n",
    "        th.append('empty')\n",
    "    else:\n",
    "        cols = cols[0].text.strip()\n",
    "        th.append(cols)\n",
    "    cols = row.find_all('td')\n",
    "    cols = cols[0].text.strip()\n",
    "    td.append(cols)\n",
    "count = 0\n",
    "while(count <= len(th)):\n",
    "    if th[count] == 'Established':\n",
    "        break\n",
    "    else:\n",
    "        count+=1\n",
    "        \n",
    "\n",
    "print(td[count], 'Year Established')\n",
    "\n",
    "while(count <= len(th)):\n",
    "    if th[count] == 'Students':\n",
    "        break\n",
    "    else:\n",
    "        count+=1\n",
    "student = td[count].split('(')\n",
    "print(student[0],'Number of Students')"
   ]
  },
  {
   "cell_type": "markdown",
   "metadata": {
    "deletable": false,
    "editable": false
   },
   "source": [
    "### Question 9 <span style = 'font-size:80%'>[16 points]</span>\n",
    "\n",
    "Use *BeautifulSoup* to scrape the appropriate data and create a data frame that consists of the school name (first word only), year founded, and number of students (as an integer, see below) for Eastern Connecticut State University, Central Connecticut State University, and Western Connecticut State University, from the appropriate Wikipedia pages. Sleep for 1 second after making a request to each page. Then construct a bar graph showing the number of students at each University. The label for the bar graph should consist of just the first word for each University (e.g., “Eastern” rather than “Eastern Connecticut State University”).\n",
    "\n",
    "Note #1: you don't need to scrape data for Southern (because Southern's page does not have a \"Students\" row in its table). \n",
    "\n",
    "Note #2: To create the bar graph, you will need to convert the string with the number of students to an integer. In order to do this you will need to remove the comma, and then use the *int* function, as shown in the code below. Note that if additional information is included, such as the year (e.g., '4,063 (Fall 2020 full-time)', you will need to extract the first number (everything up to the first blank space). \n",
    "\n",
    "Note #3: If you are unable to scape all of the data, you may manually create the data frame and then generate the graph for partial credit."
   ]
  },
  {
   "cell_type": "code",
   "execution_count": 12,
   "metadata": {
    "deletable": false,
    "editable": false
   },
   "outputs": [
    {
     "data": {
      "text/plain": [
       "5234"
      ]
     },
     "execution_count": 12,
     "metadata": {},
     "output_type": "execute_result"
    }
   ],
   "source": [
    "num = '5,234'\n",
    "num = num.replace(',','')\n",
    "int(num)"
   ]
  },
  {
   "cell_type": "code",
   "execution_count": 13,
   "metadata": {},
   "outputs": [
    {
     "name": "stdout",
     "output_type": "stream",
     "text": [
      "Eastern\n",
      "1889 Year Established\n",
      "4,989  Number of Students\n",
      "Central\n",
      "1849  Year Established\n",
      "9,653 Number of Students\n",
      "Western\n",
      "1903 Year Established\n",
      "5,246  Number of Students\n",
      "[('Eastern', 1889), ('Central', 1849), ('Western', 1903)]\n"
     ]
    },
    {
     "data": {
      "image/png": "[encoded data removed]",
      "text/plain": [
       "<Figure size 432x288 with 1 Axes>"
      ]
     },
     "metadata": {
      "needs_background": "light"
     },
     "output_type": "display_data"
    }
   ],
   "source": [
    "schoolname = []\n",
    "students = []\n",
    "founded = []\n",
    "reqList = [\"https://en.wikipedia.org/wiki/Eastern_Connecticut_State_University\",\"https://en.wikipedia.org/wiki/Central_Connecticut_State_University\",\"https://en.wikipedia.org/wiki/Western_Connecticut_State_University\"]\n",
    "i = 0\n",
    "import time\n",
    "import pandas as pd\n",
    "while (i<3):\n",
    "    time.sleep(1)\n",
    "    page = requests.get(reqList[i], headers = headers)\n",
    "    page\n",
    "    soup = BeautifulSoup(page.content, 'html.parser')\n",
    "    s1 = soup.title.string.split(\" \")\n",
    "    print(s1[0])\n",
    "    table = soup.find('table', attrs={'class':'infobox vcard'})\n",
    "    tablebd = table.find('tbody')\n",
    "    td = []\n",
    "    th = []\n",
    "    tabletr = tablebd.find_all('tr')\n",
    "    for row in tabletr:\n",
    "        cols = row.find_all('th')\n",
    "        if not cols:\n",
    "            th.append('empty')\n",
    "        else:\n",
    "            cols = cols[0].text.strip()\n",
    "            th.append(cols)\n",
    "        cols = row.find_all('td')\n",
    "        cols = cols[0].text.strip()\n",
    "        td.append(cols)\n",
    "    count = 0\n",
    "    while(count <= len(th)):\n",
    "        if th[count] == 'Established':\n",
    "            break\n",
    "        else:\n",
    "            count+=1\n",
    "        \n",
    "    year = td[count].split('(')\n",
    "    print(year[0], 'Year Established')\n",
    "    \n",
    "    while(count <= len(th)):\n",
    "        if th[count] == 'Students':\n",
    "            break\n",
    "        else:\n",
    "            count+=1\n",
    "    student = td[count].split('(')\n",
    "    print(student[0],'Number of Students')\n",
    "    num = student[0]\n",
    "    num = num.replace(',','')\n",
    "    studenttemp = int(num)\n",
    "    num = year[0]\n",
    "    num = num.replace('xa0','')\n",
    "    yeartemp = int(num)\n",
    "    schooltemp = s1[0],yeartemp\n",
    "    schoolname.append(schooltemp)\n",
    "    students.append(studenttemp)\n",
    "    \n",
    "    i+=1\n",
    "print(schoolname)\n",
    "df= pd.DataFrame(data = {\"schoolname\":schoolname, \"students\":students })\n",
    "df\n",
    "plt = df.plot.bar(x = \"schoolname\", y = \"students\", \n",
    "            title = \"CSU Schools\",\n",
    "            legend = False)\n",
    "\n",
    "plt.set_xlabel(\"\\nSchool\")\n",
    "plt.set_ylabel(\"Students\")\n",
    "None\n"
   ]
  },
  {
   "cell_type": "markdown",
   "metadata": {
    "deletable": false,
    "editable": false,
    "tags": []
   },
   "source": [
    "### Question 10 <span style = 'font-size:80%'>[16 points]</span>\n",
    "\n",
    "Selenium can be used to automate the process of signing up for a meeting or event. For example, you can use Selenium to automatically schedule office hours with me at my next available time (though this is a little tricky because you would need to log in using your Eastern credentials). In this case we consider a simpler example of using Selenium to sign up for an event on the following website:\n",
    "\n",
    "https://www.signupgenius.com/go/8050f4facaf2da7f58-csc3011\n",
    "\n",
    "Use Selenium to connect to this website, click the RSVP NOW button, and then do the following:\n",
    "\n",
    "- Select Yes that you will be attending\n",
    "- Select 1 for the number of people who will be attending\n",
    "- Enter your first name, last name, and e-mail\n",
    "- You can optionally enter a comment\n",
    "- Click the RSVP Now button\n",
    "\n",
    "Note: After clicking the first RSVP NOW button on the main page, I would start by using Selenium to enter values for the first name, last name, and e-mail inputs. These are the easiest, because these inputs can be identified by their *id*. In other cases, using *xpath* is recommended. Recall that you can use xpath to identify elements based on an attribute, following the format:\n",
    "\n",
    "```\n",
    "//tag_name[@attribute=\"value\"]\n",
    "```\n",
    "\n",
    "For example, the following *xpath* value can be used to find a submit button (\\<button type = \"submit\"\\>):\n",
    "\n",
    "```\n",
    "//input[@type=\"submit\"]\n",
    "```"
   ]
  },
  {
   "cell_type": "code",
   "execution_count": 14,
   "metadata": {
    "deletable": false,
    "editable": false
   },
   "outputs": [],
   "source": [
    "from selenium import webdriver\n",
    "from selenium.webdriver.common.keys import Keys\n",
    "from selenium.webdriver.common.by import By"
   ]
  },
  {
   "cell_type": "code",
   "execution_count": 15,
   "metadata": {},
   "outputs": [],
   "source": [
    "from selenium.webdriver.common.action_chains import ActionChains\n",
    "driver = webdriver.Firefox()\n",
    "driver.get('https://www.signupgenius.com/go/8050f4facaf2da7f58-csc3011')\n",
    "div = driver.find_element(By.CLASS_NAME, 'SUGbutton.rounded').click()\n",
    "time.sleep(2)\n",
    "div = driver.find_element(By.CLASS_NAME, 'btn-group.bootstrap-select.rsvpnumadult.form-control.inline-field.col-xs-1.ng-pristine.ng-untouched.ng-valid.ng-not-empty').click()\n",
    "info_link = driver.find_element(By.XPATH, \"//li[@data-original-index='1']\").click()\n",
    "time.sleep(1)\n",
    "accept = driver.find_element(By.CLASS_NAME, 'btn.rsvpBtnGrp.btn-success').click()\n",
    "\n",
    "info_link = driver.find_element(By.XPATH, \"//input[@type='text' and @id='firstname']\").click()\n",
    "info_link = driver.find_element(By.XPATH, \"//input[@type='text' and @id='firstname']\").send_keys(\"James\")\n",
    "info_link = driver.find_element(By.XPATH, \"//input[@type='text' and @id='lastname']\").click()\n",
    "info_link = driver.find_element(By.XPATH, \"//input[@type='text' and @id='lastname']\").send_keys(\"Conlin\")\n",
    "info_link = driver.find_element(By.XPATH, \"//input[@type='email' and @id='email']\").send_keys(\"conlinja@my.easternct.edu\")\n",
    "reset = driver.find_element(By.CLASS_NAME, 'btn.btn-lg.btn-success.ng-binding').click()\n"
   ]
  },
  {
   "cell_type": "code",
   "execution_count": null,
   "metadata": {},
   "outputs": [],
   "source": []
  },
  {
   "cell_type": "code",
   "execution_count": null,
   "metadata": {},
   "outputs": [],
   "source": []
  },
  {
   "cell_type": "code",
   "execution_count": null,
   "metadata": {},
   "outputs": [],
   "source": []
  }
 ],
 "metadata": {
  "kernelspec": {
   "display_name": "Python 3 (ipykernel)",
   "language": "python",
   "name": "python3"
  },
  "language_info": {
   "codemirror_mode": {
    "name": "ipython",
    "version": 3
   },
   "file_extension": ".py",
   "mimetype": "text/x-python",
   "name": "python",
   "nbconvert_exporter": "python",
   "pygments_lexer": "ipython3",
   "version": "3.9.7"
  }
 },
 "nbformat": 4,
 "nbformat_minor": 4
}
