{
 "cells": [
  {
   "cell_type": "code",
   "execution_count": 29,
   "id": "3acfe8c6-63dc-4215-a3c5-8910cfa8c0b7",
   "metadata": {},
   "outputs": [],
   "source": [
    "import requests\n",
    "from bs4 import BeautifulSoup\n",
    "import pandas as pd\n",
    "import time\n",
    "reqlist = [\"https://www.imdb.com/title/tt0109830/?ref_=fn_al_tt_1\",\"https://www.imdb.com/title/tt0076759/?ref_=fn_tt_tt_1\",\"https://www.imdb.com/title/tt0368226/?ref_=nv_sr_2\", \"https://www.imdb.com/title/tt0364751/\",\"https://www.imdb.com/title/tt0121766/\"]"
   ]
  },
  {
   "cell_type": "code",
   "execution_count": 30,
   "id": "3350a690-1967-4a4a-9885-1ff15d2e00e1",
   "metadata": {},
   "outputs": [
    {
     "name": "stdout",
     "output_type": "stream",
     "text": [
      "Forrest Gump (1994)\n",
      "<class 'bs4.element.ResultSet'>\n",
      "29\n",
      "8.8\n",
      "Star Wars (1977)\n",
      "<class 'bs4.element.ResultSet'>\n",
      "29\n",
      "8.6\n",
      "The Room (2003)\n",
      "<class 'bs4.element.ResultSet'>\n",
      "29\n",
      "3.6\n",
      "Without a Paddle (2004)\n",
      "<class 'bs4.element.ResultSet'>\n",
      "29\n",
      "5.8\n",
      "Star Wars: Episode III - Revenge of the Sith (2005)\n",
      "<class 'bs4.element.ResultSet'>\n",
      "29\n",
      "7.6\n"
     ]
    }
   ],
   "source": [
    "i = 0\n",
    "movietitle = []\n",
    "movierating = []\n",
    "\n",
    "while i < 5 :\n",
    "    time.sleep(1)\n",
    "    headers = {\"user-agent\": \"MovieBot/1.0\"}\n",
    "    page = requests.get(reqlist[i], headers = headers)\n",
    "\n",
    "    if page.status_code != requests.codes.ok :\n",
    "        print(\"Request was not successful, status code:\", page.status_code)\n",
    "        print(\"Hit enter to continue...\")\n",
    "        input()\n",
    "        exit()\n",
    "    \n",
    "# Parse page using BeautifulSoup\n",
    "    soup = BeautifulSoup(page.content, 'html.parser')\n",
    "    titletemp = soup.title.string.strip()\n",
    "    title = titletemp.split(' - IMDb')\n",
    "    print(title[0])\n",
    "    movietitle.append(title[0])\n",
    "    movies = soup.find_all('div', class_ = 'ipc-button__text')\n",
    "    splitter = movies[6]\n",
    "    print(type(movies))\n",
    "    print(len(movies))\n",
    "    movieratetemp = splitter.span.string.split()\n",
    "    movierate = float(movieratetemp[0])\n",
    "    print(movierate)\n",
    "    movierating.append(movierate)\n",
    "    i+=1\n"
   ]
  },
  {
   "cell_type": "code",
   "execution_count": 31,
   "id": "d957c462-85eb-4997-a82b-ae8a98d7ea7f",
   "metadata": {},
   "outputs": [
    {
     "data": {
      "text/html": [
       "<div>\n",
       "<style scoped>\n",
       "    .dataframe tbody tr th:only-of-type {\n",
       "        vertical-align: middle;\n",
       "    }\n",
       "\n",
       "    .dataframe tbody tr th {\n",
       "        vertical-align: top;\n",
       "    }\n",
       "\n",
       "    .dataframe thead th {\n",
       "        text-align: right;\n",
       "    }\n",
       "</style>\n",
       "<table border=\"1\" class=\"dataframe\">\n",
       "  <thead>\n",
       "    <tr style=\"text-align: right;\">\n",
       "      <th></th>\n",
       "      <th>Movie</th>\n",
       "      <th>Rating</th>\n",
       "    </tr>\n",
       "  </thead>\n",
       "  <tbody>\n",
       "    <tr>\n",
       "      <th>0</th>\n",
       "      <td>Forrest Gump (1994)</td>\n",
       "      <td>8.8</td>\n",
       "    </tr>\n",
       "    <tr>\n",
       "      <th>1</th>\n",
       "      <td>Star Wars (1977)</td>\n",
       "      <td>8.6</td>\n",
       "    </tr>\n",
       "    <tr>\n",
       "      <th>2</th>\n",
       "      <td>The Room (2003)</td>\n",
       "      <td>3.6</td>\n",
       "    </tr>\n",
       "    <tr>\n",
       "      <th>3</th>\n",
       "      <td>Without a Paddle (2004)</td>\n",
       "      <td>5.8</td>\n",
       "    </tr>\n",
       "    <tr>\n",
       "      <th>4</th>\n",
       "      <td>Star Wars: Episode III - Revenge of the Sith (...</td>\n",
       "      <td>7.6</td>\n",
       "    </tr>\n",
       "  </tbody>\n",
       "</table>\n",
       "</div>"
      ],
      "text/plain": [
       "                                               Movie  Rating\n",
       "0                                Forrest Gump (1994)     8.8\n",
       "1                                   Star Wars (1977)     8.6\n",
       "2                                    The Room (2003)     3.6\n",
       "3                            Without a Paddle (2004)     5.8\n",
       "4  Star Wars: Episode III - Revenge of the Sith (...     7.6"
      ]
     },
     "execution_count": 31,
     "metadata": {},
     "output_type": "execute_result"
    }
   ],
   "source": [
    "df= pd.DataFrame(data = {\"Movie\":movietitle, \"Rating\":movierating})\n",
    "df"
   ]
  },
  {
   "cell_type": "code",
   "execution_count": 32,
   "id": "9e4931f7-8904-4c5a-b7ed-f8989a1ab3d4",
   "metadata": {},
   "outputs": [
    {
     "data": {
      "image/png": "[encoded data removed]",
      "text/plain": [
       "<Figure size 432x288 with 1 Axes>"
      ]
     },
     "metadata": {
      "needs_background": "light"
     },
     "output_type": "display_data"
    }
   ],
   "source": [
    "plt = df.plot.bar(x = \"Movie\", y = \"Rating\", \n",
    "            title = \"5 really good movies and how they stack up\",\n",
    "            legend = False)\n",
    "\n",
    "plt.set_xlabel(\"\\nMovies\")\n",
    "plt.set_ylabel(\"User provided ratings (out of ten)\")\n",
    "None"
   ]
  },
  {
   "cell_type": "code",
   "execution_count": null,
   "id": "edfa0ee7-c083-477d-86a9-debb59de992f",
   "metadata": {},
   "outputs": [],
   "source": []
  }
 ],
 "metadata": {
  "kernelspec": {
   "display_name": "Python 3 (ipykernel)",
   "language": "python",
   "name": "python3"
  },
  "language_info": {
   "codemirror_mode": {
    "name": "ipython",
    "version": 3
   },
   "file_extension": ".py",
   "mimetype": "text/x-python",
   "name": "python",
   "nbconvert_exporter": "python",
   "pygments_lexer": "ipython3",
   "version": "3.9.7"
  }
 },
 "nbformat": 4,
 "nbformat_minor": 5
}
