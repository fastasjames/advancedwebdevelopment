{
 "cells": [
  {
   "cell_type": "code",
   "execution_count": null,
   "metadata": {},
   "outputs": [],
   "source": [
    "import requests\n",
    "from bs4 import BeautifulSoup\n",
    "import pandas as pd\n",
    "import time\n",
    "pd.options.display.html.use_mathjax = False\n",
    "\n",
    "# it is good practice to identify yourself\n",
    "# change the user-agent as appropriate\n",
    "headers = {\"user-agent\": \"ScheduleBot/1.0\"}\n",
    "page = requests.get(\"https://www.indeed.com/jobs?q=computer%20programmer&l=Tolland%2C%20CT&vjk=0b257b36ce5cefe8\", headers = headers)\n",
    "\n",
    "if page.status_code != requests.codes.ok :\n",
    "    print(\"Request was not successful, status code:\", page.status_code)\n",
    "    print(\"Hit enter to continue...\")\n",
    "    input()\n",
    "    exit()"
   ]
  },
  {
   "cell_type": "code",
   "execution_count": null,
   "id": "bcc07b57-3c27-4ecb-858a-ac036bf5ed81",
   "metadata": {},
   "outputs": [],
   "source": [
    "page"
   ]
  },
  {
   "cell_type": "code",
   "execution_count": null,
   "id": "65bcff4c-3ca2-49ef-9c79-f3a4d0a7a9f3",
   "metadata": {},
   "outputs": [],
   "source": [
    "soup = BeautifulSoup(page.content, 'html.parser')\n",
    "title = []\n",
    "compname = []\n",
    "comploc = []\n",
    "compsal = []\n",
    "i=0\n",
    "while i < 10:\n",
    "    jobtitlet = soup.find_all('td',class_ = 'resultContent')\n",
    "    jobtitlep = soup.find_all('h2',class_ = 'jobTitle jobTitle-color-purple')\n",
    "    jobtitle = jobtitlep[i].span.string.strip()\n",
    "    print(jobtitle)\n",
    "    title.append(jobtitle)\n",
    "    jobt = soup.find_all('div',class_ = 'heading6 company_location tapItem-gutter companyInfo')\n",
    "    tjob = jobt[i]\n",
    "    companyname = tjob.find('span',class_ = 'companyName')\n",
    "    companyname = companyname.string.strip()\n",
    "    print(companyname)\n",
    "    compname.append(companyname)\n",
    "    companylocation = tjob.find('div',class_ = 'companyLocation')\n",
    "    companylocation = companylocation.text.strip()\n",
    "    print(companylocation)\n",
    "    comploc.append(companylocation)\n",
    "    companysalary = jobtitlet[i].find('div',class_ = 'attribute_snippet')\n",
    "    if companysalary != None :\n",
    "        companysalary = companysalary.text.split('an')\n",
    "        companysalary = companysalary[0].strip()\n",
    "        print(companysalary)\n",
    "        compsal.append(companysalary)\n",
    "    else :\n",
    "        compsal.append('?')\n",
    "        print('none')\n",
    "    i+=1\n",
    "    "
   ]
  },
  {
   "cell_type": "code",
   "execution_count": null,
   "id": "574e9b2a-2499-4a5a-926d-3eb3fb91dcc0",
   "metadata": {},
   "outputs": [],
   "source": [
    "df= pd.DataFrame(data = {\"Job Title\":title, \"Company Name\":compname, \"Company Location\":comploc , \"Company Salary\":compsal})\n",
    "df"
   ]
  },
  {
   "cell_type": "code",
   "execution_count": null,
   "id": "01097ec9-f08a-4409-8a53-eb8eb8c4ff51",
   "metadata": {},
   "outputs": [],
   "source": []
  }
 ],
 "metadata": {
  "kernelspec": {
   "display_name": "Python 3 (ipykernel)",
   "language": "python",
   "name": "python3"
  },
  "language_info": {
   "codemirror_mode": {
    "name": "ipython",
    "version": 3
   },
   "file_extension": ".py",
   "mimetype": "text/x-python",
   "name": "python",
   "nbconvert_exporter": "python",
   "pygments_lexer": "ipython3",
   "version": "3.9.7"
  }
 },
 "nbformat": 4,
 "nbformat_minor": 5
}
