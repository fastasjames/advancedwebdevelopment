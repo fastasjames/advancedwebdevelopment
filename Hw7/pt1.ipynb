{
 "cells": [
  {
   "cell_type": "code",
   "execution_count": 1,
   "id": "59298ff1-14c9-4d81-b3e8-21685834b7fb",
   "metadata": {},
   "outputs": [],
   "source": [
    "import requests\n",
    "from bs4 import BeautifulSoup\n",
    "import pandas as pd\n",
    "\n",
    "# it is good practice to identify yourself\n",
    "# change the user-agent as appropriate\n",
    "headers = {\"user-agent\": \"ScheduleBot/1.0\"}\n",
    "page = requests.get(\"https://gdancik.github.io/CSC-301/data/notes/schedule.html\", headers = headers)\n",
    "\n",
    "if page.status_code != requests.codes.ok :\n",
    "    print(\"Request was not successful, status code:\", page.status_code)\n",
    "    exit()\n",
    "    \n",
    "# Parse page using BeautifulSoup\n",
    "soup = BeautifulSoup(page.content, 'html.parser')"
   ]
  },
  {
   "cell_type": "code",
   "execution_count": 2,
   "id": "7b25c3e2-1925-4cda-88ac-d4ee709e501c",
   "metadata": {},
   "outputs": [],
   "source": [
    "professortemp = soup.title.string.strip()"
   ]
  },
  {
   "cell_type": "code",
   "execution_count": 3,
   "id": "18030c9b-adf8-4b8b-b472-d28edd42576b",
   "metadata": {},
   "outputs": [
    {
     "name": "stdout",
     "output_type": "stream",
     "text": [
      "Dr. Dancik\n"
     ]
    }
   ],
   "source": [
    "professor = professortemp.split('for ')\n",
    "print(professor[1])"
   ]
  },
  {
   "cell_type": "code",
   "execution_count": 4,
   "id": "d6548366-2ea9-4444-bb7e-6402c85bec10",
   "metadata": {},
   "outputs": [
    {
     "name": "stdout",
     "output_type": "stream",
     "text": [
      "Dr. Dancik is teaching 3 courses ( 9 credits)\n"
     ]
    }
   ],
   "source": [
    "coursedetails = soup.find_all('tr')\n",
    "i=0\n",
    "cla=0\n",
    "for d in coursedetails[1:] :\n",
    "    tds = d.find_all('td')\n",
    "    a = tds[2].string.strip()\n",
    "    i += int(a)\n",
    "    cla +=1\n",
    "print(professor[1],\"is teaching\",cla,\"courses (\",i,\"credits)\")"
   ]
  }
 ],
 "metadata": {
  "kernelspec": {
   "display_name": "Python 3 (ipykernel)",
   "language": "python",
   "name": "python3"
  },
  "language_info": {
   "codemirror_mode": {
    "name": "ipython",
    "version": 3
   },
   "file_extension": ".py",
   "mimetype": "text/x-python",
   "name": "python",
   "nbconvert_exporter": "python",
   "pygments_lexer": "ipython3",
   "version": "3.9.7"
  }
 },
 "nbformat": 4,
 "nbformat_minor": 5
}
